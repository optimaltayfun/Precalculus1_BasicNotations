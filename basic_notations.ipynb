{
 "cells": [
  {
   "metadata": {
    "collapsed": true
   },
   "cell_type": "markdown",
   "source": [
    "# Math Symbols\n",
    "\n",
    "## Greek\n",
    "\n",
    "| Capital | lowercase | name    | transliteration | LaTeX      | Where is it used?                                     |\n",
    "|---------|-----------|---------|-----------------|------------|-------------------------------------------------------|\n",
    "| Α       | α         | alpha   | a               | `\\alpha`   | Geometry                                              |\n",
    "| Β       | β         | beta    | b               | `\\beta`    | Geometry                                              |\n",
    "| Γ       | γ         | gamma   | g               | `\\gamma`   | Geometry                                              |\n",
    "| Δ       | δ         | delta   | d               | `\\delta`   | Calculus 1 and two                                    |\n",
    "| Ε       | ε         | epsilon | e               | `\\epsilon` | General / Calculus 1 and 2                            |\n",
    "| Ζ       | ζ         | zeta    | z               | `\\zeta`    | Calculus 3                                            |\n",
    "| Η       | η         | eta     | e               | `\\eta`     | Calculus 3                                            |\n",
    "| Θ       | θ         | theta   | th              | `\\theta`   | Linear Algebra / Geometry                             |\n",
    "| Ι       | ι         | iota    | i               | `\\iota`    | Algebra                                               |\n",
    "| Κ       | κ         | kappa   | k               | `\\kappa`   | Algebra                                               |\n",
    "| Λ       | λ         | lambda  | l               | `\\lambda`  | Calculus 3 / Linear Algebra                           |\n",
    "| Μ       | μ         | mu      | m               | `\\mu`      | Probability / Statistics                              |\n",
    "| Ν       | ν         | nu      | n               | `\\nu`      | Calculus 3                                            |\n",
    "| Ξ       | ξ         | xi      | x               | `\\xi`      | Calculus 1 and 2                                      |\n",
    "| Ο       | ο         | omicron | o               | `\\omicron` | Rarely used                                           |\n",
    "| Π       | π         | pi      | p               | `\\pi`      | General / Geometry / Calculus 1 and 2                 |\n",
    "| Ρ       | ρ         | rho     | r               | `\\rho`     | Calculus 3 / Probability \\ Statistics                 |\n",
    "| Σ       | σ         | sigma   | s               | `\\sigma`   | General / Calculus 1 and 2 / Probability / Statistics |\n",
    "| Τ       | τ         | tau     | t               | `\\tau`     | Calculus 1 and 2                                      |\n",
    "| Υ       | υ         | upsilon | u               | `\\upsilon` | Rarely used                                           |\n",
    "| Φ       | φ         | phi     | ph              | `\\phi`     | Linear Algebra                                        |\n",
    "| Χ       | χ         | chi     | ch              | `\\chi`     | Statistics                                            |\n",
    "| Ψ       | ψ         | psi     | ps              | `\\psi`     | Quantum Mechanics                                     |\n",
    "| Ω       | ω         | omega   | o               | `\\omega`   | Probability and Statistics                            |\n",
    "\n"
   ],
   "id": "10c69311aa2ea5a4"
  }
 ],
 "metadata": {
  "kernelspec": {
   "display_name": "Python 3",
   "language": "python",
   "name": "python3"
  },
  "language_info": {
   "codemirror_mode": {
    "name": "ipython",
    "version": 2
   },
   "file_extension": ".py",
   "mimetype": "text/x-python",
   "name": "python",
   "nbconvert_exporter": "python",
   "pygments_lexer": "ipython2",
   "version": "2.7.6"
  }
 },
 "nbformat": 4,
 "nbformat_minor": 5
}
